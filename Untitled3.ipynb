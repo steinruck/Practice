{
  "nbformat": 4,
  "nbformat_minor": 0,
  "metadata": {
    "colab": {
      "name": "Untitled3.ipynb",
      "provenance": [],
      "collapsed_sections": [],
      "authorship_tag": "ABX9TyNzMS4+rrmElawL/ObXosOr",
      "include_colab_link": true
    },
    "kernelspec": {
      "name": "python3",
      "display_name": "Python 3"
    },
    "language_info": {
      "name": "python"
    }
  },
  "cells": [
    {
      "cell_type": "markdown",
      "metadata": {
        "id": "view-in-github",
        "colab_type": "text"
      },
      "source": [
        "<a href=\"https://colab.research.google.com/github/steinruck/Practice/blob/main/Untitled3.ipynb\" target=\"_parent\"><img src=\"https://colab.research.google.com/assets/colab-badge.svg\" alt=\"Open In Colab\"/></a>"
      ]
    },
    {
      "cell_type": "code",
      "metadata": {
        "id": "NZqldNuwcYyX"
      },
      "source": [
        "import random\n",
        "import pandas as pd\n",
        "import numpy as np"
      ],
      "execution_count": 15,
      "outputs": []
    },
    {
      "cell_type": "code",
      "metadata": {
        "id": "bGZVaohOeAL0"
      },
      "source": [
        "cell_tower = []\n",
        "part_1 = '432.11.'\n",
        "part_3 = []\n",
        "part_4 = []\n",
        "\n",
        "for i in range(1,151):\n",
        "  part_3.append(random.randint(1000,9999))\n",
        "\n",
        "for i in range(1,151):\n",
        "  part_4.append(random.randint(10000,99999))"
      ],
      "execution_count": 2,
      "outputs": []
    },
    {
      "cell_type": "code",
      "metadata": {
        "id": "2M4UPcqygA5m"
      },
      "source": [
        "part_3 = list(map(str, part_3))\n",
        "part_4 = list(map(str, part_4))"
      ],
      "execution_count": 3,
      "outputs": []
    },
    {
      "cell_type": "code",
      "metadata": {
        "id": "YoYwKz3igeg-"
      },
      "source": [
        "res = [i + j for i, j in zip(part_3, part_4)]"
      ],
      "execution_count": 4,
      "outputs": []
    },
    {
      "cell_type": "code",
      "metadata": {
        "id": "MzydiVWUiQud"
      },
      "source": [
        "with_period = []\n",
        "for string in res:\n",
        "    with_period.append('.'.join(string[i:i + 4] for i in range(0, len(string), 4)))"
      ],
      "execution_count": 5,
      "outputs": []
    },
    {
      "cell_type": "code",
      "metadata": {
        "id": "l3SPLCbzkN8d"
      },
      "source": [
        "for string in with_period:\n",
        "    cell_tower.append(part_1 + string)"
      ],
      "execution_count": 6,
      "outputs": []
    },
    {
      "cell_type": "code",
      "metadata": {
        "id": "-0roKHX8n1yw"
      },
      "source": [
        "remove_period = []\n",
        "\n",
        "for string in cell_tower:\n",
        "    remove_period.append(string[:16] + string[17:])"
      ],
      "execution_count": 7,
      "outputs": []
    },
    {
      "cell_type": "code",
      "metadata": {
        "colab": {
          "base_uri": "https://localhost:8080/"
        },
        "id": "fGTS0-yxoOwt",
        "outputId": "fbd2e4b9-5660-4160-e190-1eceadff8004"
      },
      "source": [
        "remove_period"
      ],
      "execution_count": 8,
      "outputs": [
        {
          "output_type": "execute_result",
          "data": {
            "text/plain": [
              "['432.11.2093.32713',\n",
              " '432.11.3105.86590',\n",
              " '432.11.3923.22694',\n",
              " '432.11.8696.80771',\n",
              " '432.11.8475.15316',\n",
              " '432.11.2913.74524',\n",
              " '432.11.6238.13618',\n",
              " '432.11.4596.91019',\n",
              " '432.11.4226.38226',\n",
              " '432.11.9751.78497',\n",
              " '432.11.5005.42910',\n",
              " '432.11.5451.21581',\n",
              " '432.11.1595.82515',\n",
              " '432.11.5538.62230',\n",
              " '432.11.8466.36026',\n",
              " '432.11.2458.34445',\n",
              " '432.11.6700.99690',\n",
              " '432.11.8733.22093',\n",
              " '432.11.7970.84951',\n",
              " '432.11.9221.34201',\n",
              " '432.11.4322.28731',\n",
              " '432.11.9987.95718',\n",
              " '432.11.4675.88745',\n",
              " '432.11.4611.49649',\n",
              " '432.11.3921.27833',\n",
              " '432.11.4281.72210',\n",
              " '432.11.4207.56086',\n",
              " '432.11.6755.31625',\n",
              " '432.11.4771.42572',\n",
              " '432.11.2527.88223',\n",
              " '432.11.8162.74965',\n",
              " '432.11.3216.75904',\n",
              " '432.11.5714.94491',\n",
              " '432.11.4379.45250',\n",
              " '432.11.9319.13266',\n",
              " '432.11.8870.89191',\n",
              " '432.11.9970.66290',\n",
              " '432.11.8623.44176',\n",
              " '432.11.3503.12520',\n",
              " '432.11.3813.69294',\n",
              " '432.11.8148.81097',\n",
              " '432.11.6228.76788',\n",
              " '432.11.2610.87151',\n",
              " '432.11.1103.40455',\n",
              " '432.11.3245.17899',\n",
              " '432.11.2041.43949',\n",
              " '432.11.9971.90032',\n",
              " '432.11.5642.28618',\n",
              " '432.11.3290.37250',\n",
              " '432.11.4659.90888',\n",
              " '432.11.5234.90198',\n",
              " '432.11.9714.98092',\n",
              " '432.11.8293.14340',\n",
              " '432.11.1025.64373',\n",
              " '432.11.1992.88124',\n",
              " '432.11.8551.31511',\n",
              " '432.11.3537.22382',\n",
              " '432.11.7651.80171',\n",
              " '432.11.1274.78457',\n",
              " '432.11.8312.99213',\n",
              " '432.11.2414.72678',\n",
              " '432.11.3569.50560',\n",
              " '432.11.2512.50120',\n",
              " '432.11.1602.72581',\n",
              " '432.11.6562.44033',\n",
              " '432.11.5226.26428',\n",
              " '432.11.4689.63693',\n",
              " '432.11.9031.13216',\n",
              " '432.11.2895.52124',\n",
              " '432.11.6211.42543',\n",
              " '432.11.3204.12611',\n",
              " '432.11.7510.49960',\n",
              " '432.11.5377.18401',\n",
              " '432.11.7020.52144',\n",
              " '432.11.2312.31032',\n",
              " '432.11.7630.37477',\n",
              " '432.11.7285.76351',\n",
              " '432.11.4778.96576',\n",
              " '432.11.3113.64621',\n",
              " '432.11.2899.60982',\n",
              " '432.11.3322.96094',\n",
              " '432.11.4146.27525',\n",
              " '432.11.6794.28284',\n",
              " '432.11.4649.15898',\n",
              " '432.11.7164.39608',\n",
              " '432.11.7455.96616',\n",
              " '432.11.6265.36959',\n",
              " '432.11.2424.88587',\n",
              " '432.11.4173.79704',\n",
              " '432.11.7789.41333',\n",
              " '432.11.3773.98007',\n",
              " '432.11.2907.67874',\n",
              " '432.11.3357.87777',\n",
              " '432.11.1266.48361',\n",
              " '432.11.1884.58977',\n",
              " '432.11.7743.80883',\n",
              " '432.11.5973.92558',\n",
              " '432.11.8334.86500',\n",
              " '432.11.3285.35152',\n",
              " '432.11.6526.58653',\n",
              " '432.11.8038.29900',\n",
              " '432.11.3162.48602',\n",
              " '432.11.5337.13366',\n",
              " '432.11.8924.96751',\n",
              " '432.11.7129.48824',\n",
              " '432.11.6795.23717',\n",
              " '432.11.9229.98096',\n",
              " '432.11.8558.51115',\n",
              " '432.11.2765.28302',\n",
              " '432.11.4127.56211',\n",
              " '432.11.6734.37068',\n",
              " '432.11.5648.38408',\n",
              " '432.11.2521.25691',\n",
              " '432.11.1946.27563',\n",
              " '432.11.5066.13886',\n",
              " '432.11.7784.75060',\n",
              " '432.11.1804.69713',\n",
              " '432.11.9489.83609',\n",
              " '432.11.4128.98342',\n",
              " '432.11.6710.18517',\n",
              " '432.11.4705.16844',\n",
              " '432.11.1780.64442',\n",
              " '432.11.5153.92938',\n",
              " '432.11.3033.81980',\n",
              " '432.11.9349.18946',\n",
              " '432.11.6852.32860',\n",
              " '432.11.3138.50439',\n",
              " '432.11.2404.37083',\n",
              " '432.11.3050.29106',\n",
              " '432.11.1992.82216',\n",
              " '432.11.8931.77321',\n",
              " '432.11.4393.35328',\n",
              " '432.11.4541.76900',\n",
              " '432.11.6445.11684',\n",
              " '432.11.3463.91480',\n",
              " '432.11.6314.74972',\n",
              " '432.11.1559.59125',\n",
              " '432.11.1022.90474',\n",
              " '432.11.7953.10436',\n",
              " '432.11.7161.31506',\n",
              " '432.11.5517.81458',\n",
              " '432.11.1831.39552',\n",
              " '432.11.6347.13347',\n",
              " '432.11.2453.62435',\n",
              " '432.11.5622.97852',\n",
              " '432.11.4817.83225',\n",
              " '432.11.5280.13316',\n",
              " '432.11.8866.93856',\n",
              " '432.11.8292.63660',\n",
              " '432.11.4286.81703']"
            ]
          },
          "metadata": {
            "tags": []
          },
          "execution_count": 8
        }
      ]
    },
    {
      "cell_type": "code",
      "metadata": {
        "id": "K_WkpcdcrEBV"
      },
      "source": [
        "int_list = []\n",
        "for i in range(1,1001):\n",
        "    int_list.append(i)"
      ],
      "execution_count": 13,
      "outputs": []
    },
    {
      "cell_type": "code",
      "metadata": {
        "colab": {
          "base_uri": "https://localhost:8080/",
          "height": 419
        },
        "id": "F-8kkZWVrQn-",
        "outputId": "45c1252f-e2df-4cf8-f8cf-0d11b11904fa"
      },
      "source": [
        "df = pd.DataFrame(int_list, columns=['name'])"
      ],
      "execution_count": 14,
      "outputs": [
        {
          "output_type": "execute_result",
          "data": {
            "text/html": [
              "<div>\n",
              "<style scoped>\n",
              "    .dataframe tbody tr th:only-of-type {\n",
              "        vertical-align: middle;\n",
              "    }\n",
              "\n",
              "    .dataframe tbody tr th {\n",
              "        vertical-align: top;\n",
              "    }\n",
              "\n",
              "    .dataframe thead th {\n",
              "        text-align: right;\n",
              "    }\n",
              "</style>\n",
              "<table border=\"1\" class=\"dataframe\">\n",
              "  <thead>\n",
              "    <tr style=\"text-align: right;\">\n",
              "      <th></th>\n",
              "      <th>name</th>\n",
              "    </tr>\n",
              "  </thead>\n",
              "  <tbody>\n",
              "    <tr>\n",
              "      <th>0</th>\n",
              "      <td>1</td>\n",
              "    </tr>\n",
              "    <tr>\n",
              "      <th>1</th>\n",
              "      <td>2</td>\n",
              "    </tr>\n",
              "    <tr>\n",
              "      <th>2</th>\n",
              "      <td>3</td>\n",
              "    </tr>\n",
              "    <tr>\n",
              "      <th>3</th>\n",
              "      <td>4</td>\n",
              "    </tr>\n",
              "    <tr>\n",
              "      <th>4</th>\n",
              "      <td>5</td>\n",
              "    </tr>\n",
              "    <tr>\n",
              "      <th>...</th>\n",
              "      <td>...</td>\n",
              "    </tr>\n",
              "    <tr>\n",
              "      <th>995</th>\n",
              "      <td>996</td>\n",
              "    </tr>\n",
              "    <tr>\n",
              "      <th>996</th>\n",
              "      <td>997</td>\n",
              "    </tr>\n",
              "    <tr>\n",
              "      <th>997</th>\n",
              "      <td>998</td>\n",
              "    </tr>\n",
              "    <tr>\n",
              "      <th>998</th>\n",
              "      <td>999</td>\n",
              "    </tr>\n",
              "    <tr>\n",
              "      <th>999</th>\n",
              "      <td>1000</td>\n",
              "    </tr>\n",
              "  </tbody>\n",
              "</table>\n",
              "<p>1000 rows × 1 columns</p>\n",
              "</div>"
            ],
            "text/plain": [
              "     name\n",
              "0       1\n",
              "1       2\n",
              "2       3\n",
              "3       4\n",
              "4       5\n",
              "..    ...\n",
              "995   996\n",
              "996   997\n",
              "997   998\n",
              "998   999\n",
              "999  1000\n",
              "\n",
              "[1000 rows x 1 columns]"
            ]
          },
          "metadata": {
            "tags": []
          },
          "execution_count": 14
        }
      ]
    },
    {
      "cell_type": "code",
      "metadata": {
        "colab": {
          "base_uri": "https://localhost:8080/",
          "height": 419
        },
        "id": "jZk3voGvriFR",
        "outputId": "8c55d9bb-ad13-4fd0-d6aa-4b55232d64ab"
      },
      "source": [
        "df[\"cell_tower\"] = np.random.choice(remove_period, size=len(df))"
      ],
      "execution_count": 16,
      "outputs": [
        {
          "output_type": "execute_result",
          "data": {
            "text/html": [
              "<div>\n",
              "<style scoped>\n",
              "    .dataframe tbody tr th:only-of-type {\n",
              "        vertical-align: middle;\n",
              "    }\n",
              "\n",
              "    .dataframe tbody tr th {\n",
              "        vertical-align: top;\n",
              "    }\n",
              "\n",
              "    .dataframe thead th {\n",
              "        text-align: right;\n",
              "    }\n",
              "</style>\n",
              "<table border=\"1\" class=\"dataframe\">\n",
              "  <thead>\n",
              "    <tr style=\"text-align: right;\">\n",
              "      <th></th>\n",
              "      <th>name</th>\n",
              "      <th>cell_tower</th>\n",
              "    </tr>\n",
              "  </thead>\n",
              "  <tbody>\n",
              "    <tr>\n",
              "      <th>0</th>\n",
              "      <td>1</td>\n",
              "      <td>432.11.4649.15898</td>\n",
              "    </tr>\n",
              "    <tr>\n",
              "      <th>1</th>\n",
              "      <td>2</td>\n",
              "      <td>432.11.8623.44176</td>\n",
              "    </tr>\n",
              "    <tr>\n",
              "      <th>2</th>\n",
              "      <td>3</td>\n",
              "      <td>432.11.7651.80171</td>\n",
              "    </tr>\n",
              "    <tr>\n",
              "      <th>3</th>\n",
              "      <td>4</td>\n",
              "      <td>432.11.8292.63660</td>\n",
              "    </tr>\n",
              "    <tr>\n",
              "      <th>4</th>\n",
              "      <td>5</td>\n",
              "      <td>432.11.3537.22382</td>\n",
              "    </tr>\n",
              "    <tr>\n",
              "      <th>...</th>\n",
              "      <td>...</td>\n",
              "      <td>...</td>\n",
              "    </tr>\n",
              "    <tr>\n",
              "      <th>995</th>\n",
              "      <td>996</td>\n",
              "      <td>432.11.3463.91480</td>\n",
              "    </tr>\n",
              "    <tr>\n",
              "      <th>996</th>\n",
              "      <td>997</td>\n",
              "      <td>432.11.3204.12611</td>\n",
              "    </tr>\n",
              "    <tr>\n",
              "      <th>997</th>\n",
              "      <td>998</td>\n",
              "      <td>432.11.5337.13366</td>\n",
              "    </tr>\n",
              "    <tr>\n",
              "      <th>998</th>\n",
              "      <td>999</td>\n",
              "      <td>432.11.5642.28618</td>\n",
              "    </tr>\n",
              "    <tr>\n",
              "      <th>999</th>\n",
              "      <td>1000</td>\n",
              "      <td>432.11.3138.50439</td>\n",
              "    </tr>\n",
              "  </tbody>\n",
              "</table>\n",
              "<p>1000 rows × 2 columns</p>\n",
              "</div>"
            ],
            "text/plain": [
              "     name         cell_tower\n",
              "0       1  432.11.4649.15898\n",
              "1       2  432.11.8623.44176\n",
              "2       3  432.11.7651.80171\n",
              "3       4  432.11.8292.63660\n",
              "4       5  432.11.3537.22382\n",
              "..    ...                ...\n",
              "995   996  432.11.3463.91480\n",
              "996   997  432.11.3204.12611\n",
              "997   998  432.11.5337.13366\n",
              "998   999  432.11.5642.28618\n",
              "999  1000  432.11.3138.50439\n",
              "\n",
              "[1000 rows x 2 columns]"
            ]
          },
          "metadata": {
            "tags": []
          },
          "execution_count": 16
        }
      ]
    }
  ]
}