{
  "nbformat": 4,
  "nbformat_minor": 0,
  "metadata": {
    "colab": {
      "name": "Untitled3.ipynb",
      "provenance": [],
      "collapsed_sections": [],
      "authorship_tag": "ABX9TyN2onf0LHp6g3z+G03f8EEh",
      "include_colab_link": true
    },
    "kernelspec": {
      "name": "python3",
      "display_name": "Python 3"
    },
    "language_info": {
      "name": "python"
    }
  },
  "cells": [
    {
      "cell_type": "markdown",
      "metadata": {
        "id": "view-in-github",
        "colab_type": "text"
      },
      "source": [
        "<a href=\"https://colab.research.google.com/github/steinruck/Practice/blob/main/Untitled3.ipynb\" target=\"_parent\"><img src=\"https://colab.research.google.com/assets/colab-badge.svg\" alt=\"Open In Colab\"/></a>"
      ]
    },
    {
      "cell_type": "code",
      "metadata": {
        "id": "NZqldNuwcYyX"
      },
      "source": [
        "import random\n",
        "import pandas as pd\n",
        "import numpy as np"
      ],
      "execution_count": 15,
      "outputs": []
    },
    {
      "cell_type": "code",
      "metadata": {
        "id": "bGZVaohOeAL0"
      },
      "source": [
        "cell_tower = []\n",
        "part_1 = '432.11.'\n",
        "part_3 = []\n",
        "part_4 = []\n",
        "\n",
        "for i in range(1,151):\n",
        "  part_3.append(random.randint(1000,9999))\n",
        "\n",
        "for i in range(1,151):\n",
        "  part_4.append(random.randint(10000,99999))\n",
        "\n",
        "part_3 = list(map(str, part_3))\n",
        "part_4 = list(map(str, part_4))\n",
        "\n",
        "res = [i + j for i, j in zip(part_3, part_4)]\n",
        "\n",
        "\n",
        "with_period = []\n",
        "for string in res:\n",
        "    with_period.append(string[:4] + '.' + string[4:])\n",
        "\n",
        "for string in with_period:\n",
        "    cell_tower.append(part_1 + string)\n",
        "\n",
        "int_list = []\n",
        "for i in range(1,1001):\n",
        "    int_list.append(i)\n",
        "\n",
        "data = {'name':int_list,'cell_tower':(np.random.choice(cell_tower, size=len(int_list)))}\n",
        "\n",
        "df = pd.DataFrame(data)"
      ],
      "execution_count": 37,
      "outputs": []
    },
    {
      "cell_type": "code",
      "metadata": {
        "colab": {
          "base_uri": "https://localhost:8080/",
          "height": 419
        },
        "id": "eVD1DhQEwF-w",
        "outputId": "726da6f9-741a-4c24-f4f0-43c928c279b9"
      },
      "source": [
        "df"
      ],
      "execution_count": 40,
      "outputs": [
        {
          "output_type": "execute_result",
          "data": {
            "text/html": [
              "<div>\n",
              "<style scoped>\n",
              "    .dataframe tbody tr th:only-of-type {\n",
              "        vertical-align: middle;\n",
              "    }\n",
              "\n",
              "    .dataframe tbody tr th {\n",
              "        vertical-align: top;\n",
              "    }\n",
              "\n",
              "    .dataframe thead th {\n",
              "        text-align: right;\n",
              "    }\n",
              "</style>\n",
              "<table border=\"1\" class=\"dataframe\">\n",
              "  <thead>\n",
              "    <tr style=\"text-align: right;\">\n",
              "      <th></th>\n",
              "      <th>name</th>\n",
              "      <th>cell_tower</th>\n",
              "    </tr>\n",
              "  </thead>\n",
              "  <tbody>\n",
              "    <tr>\n",
              "      <th>0</th>\n",
              "      <td>1</td>\n",
              "      <td>432.11.6014.36074</td>\n",
              "    </tr>\n",
              "    <tr>\n",
              "      <th>1</th>\n",
              "      <td>2</td>\n",
              "      <td>432.11.9165.36242</td>\n",
              "    </tr>\n",
              "    <tr>\n",
              "      <th>2</th>\n",
              "      <td>3</td>\n",
              "      <td>432.11.6415.98172</td>\n",
              "    </tr>\n",
              "    <tr>\n",
              "      <th>3</th>\n",
              "      <td>4</td>\n",
              "      <td>432.11.8148.53385</td>\n",
              "    </tr>\n",
              "    <tr>\n",
              "      <th>4</th>\n",
              "      <td>5</td>\n",
              "      <td>432.11.5622.62351</td>\n",
              "    </tr>\n",
              "    <tr>\n",
              "      <th>...</th>\n",
              "      <td>...</td>\n",
              "      <td>...</td>\n",
              "    </tr>\n",
              "    <tr>\n",
              "      <th>995</th>\n",
              "      <td>996</td>\n",
              "      <td>432.11.6587.98346</td>\n",
              "    </tr>\n",
              "    <tr>\n",
              "      <th>996</th>\n",
              "      <td>997</td>\n",
              "      <td>432.11.5580.24697</td>\n",
              "    </tr>\n",
              "    <tr>\n",
              "      <th>997</th>\n",
              "      <td>998</td>\n",
              "      <td>432.11.7039.87331</td>\n",
              "    </tr>\n",
              "    <tr>\n",
              "      <th>998</th>\n",
              "      <td>999</td>\n",
              "      <td>432.11.1498.34936</td>\n",
              "    </tr>\n",
              "    <tr>\n",
              "      <th>999</th>\n",
              "      <td>1000</td>\n",
              "      <td>432.11.4348.67882</td>\n",
              "    </tr>\n",
              "  </tbody>\n",
              "</table>\n",
              "<p>1000 rows × 2 columns</p>\n",
              "</div>"
            ],
            "text/plain": [
              "     name         cell_tower\n",
              "0       1  432.11.6014.36074\n",
              "1       2  432.11.9165.36242\n",
              "2       3  432.11.6415.98172\n",
              "3       4  432.11.8148.53385\n",
              "4       5  432.11.5622.62351\n",
              "..    ...                ...\n",
              "995   996  432.11.6587.98346\n",
              "996   997  432.11.5580.24697\n",
              "997   998  432.11.7039.87331\n",
              "998   999  432.11.1498.34936\n",
              "999  1000  432.11.4348.67882\n",
              "\n",
              "[1000 rows x 2 columns]"
            ]
          },
          "metadata": {
            "tags": []
          },
          "execution_count": 40
        }
      ]
    }
  ]
}